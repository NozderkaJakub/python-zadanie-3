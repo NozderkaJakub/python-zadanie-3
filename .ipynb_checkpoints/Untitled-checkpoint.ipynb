{
 "cells": [
  {
   "cell_type": "code",
   "execution_count": 3,
   "metadata": {},
   "outputs": [
    {
     "name": "stdout",
     "output_type": "stream",
     "text": [
      "Collecting numpy\n",
      "  Using cached https://files.pythonhosted.org/packages/5c/28/32ca028c2dcaa3f180dcc59266d6856d3e24f63ca96b8fc4af9bdbd4ae04/numpy-1.17.4-cp38-cp38-win32.whl\n",
      "Installing collected packages: numpy\n",
      "Successfully installed numpy-1.17.4\n"
     ]
    }
   ],
   "source": [
    "!py -m pip install numpy"
   ]
  },
  {
   "cell_type": "code",
   "execution_count": 26,
   "metadata": {
    "scrolled": true
   },
   "outputs": [
    {
     "name": "stdout",
     "output_type": "stream",
     "text": [
      "mcg: 0.50006\n",
      "gvh: 0.50000\n",
      "lip: 0.49548\n",
      "chg: 0.50149\n",
      "aac: 0.50003\n",
      "alm1: 0.50018\n",
      "alm2: 0.49973\n"
     ]
    }
   ],
   "source": [
    "from data import Data\n",
    "from calculator import Calculator as Calc\n",
    "\n",
    "d = Data()\n",
    "\n",
    "quantitative_data = d.get_subdata_by_columns(['mcg', 'gvh', 'lip', 'chg', 'aac', 'alm1', 'alm2'])\n",
    "qualitative_data = d.get_subdata_by_columns(['sequenceName', 'localization'])\n",
    "\n",
    "for k in quantitative_data:\n",
    "    print(k+': '+str('{0:.5f}'.format(Calc.calc_arithmetic_mean(quantitative_data[k]))))"
   ]
  },
  {
   "cell_type": "markdown",
   "metadata": {},
   "source": [
    "Odchylenie standardowe"
   ]
  },
  {
   "cell_type": "code",
   "execution_count": 27,
   "metadata": {},
   "outputs": [
    {
     "name": "stdout",
     "output_type": "stream",
     "text": [
      "mcg: 0.19434\n",
      "gvh: 0.14794\n",
      "lip: 0.08836\n",
      "chg: 0.02724\n",
      "aac: 0.12219\n",
      "alm1: 0.21543\n",
      "alm2: 0.20910\n"
     ]
    }
   ],
   "source": [
    "for k in quantitative_data:\n",
    "    print(k+': '+str('{0:.5f}'.format(Calc.calc_standard_deviation(quantitative_data[k]))))"
   ]
  },
  {
   "cell_type": "code",
   "execution_count": 28,
   "metadata": {},
   "outputs": [
    {
     "name": "stdout",
     "output_type": "stream",
     "text": [
      "mcg: 0.5\n",
      "gvh: 0.47\n",
      "lip: 0.48\n",
      "chg: 0.5\n",
      "aac: 0.495\n",
      "alm1: 0.455\n",
      "alm2: 0.43\n"
     ]
    }
   ],
   "source": [
    "for k in quantitative_data:\n",
    "    print(k+': '+str(Calc.calc_median(quantitative_data[k])))"
   ]
  },
  {
   "cell_type": "code",
   "execution_count": 29,
   "metadata": {},
   "outputs": [
    {
     "name": "stdout",
     "output_type": "stream",
     "text": [
      "mcg: 0.0\n",
      "gvh: 0.16\n",
      "lip: 0.48\n",
      "chg: 0.5\n",
      "aac: 0.0\n",
      "alm1: 0.03\n",
      "alm2: 0.0\n"
     ]
    }
   ],
   "source": [
    "for k in quantitative_data:\n",
    "    print(k+': '+str(Calc.calc_minimum(quantitative_data[k])))"
   ]
  },
  {
   "cell_type": "code",
   "execution_count": 30,
   "metadata": {
    "scrolled": true
   },
   "outputs": [
    {
     "name": "stdout",
     "output_type": "stream",
     "text": [
      "mcg: 0.89\n",
      "gvh: 1.0\n",
      "lip: 1.0\n",
      "chg: 1.0\n",
      "aac: 0.88\n",
      "alm1: 1.0\n",
      "alm2: 0.99\n"
     ]
    }
   ],
   "source": [
    "for k in quantitative_data:\n",
    "    print(k+': '+str(Calc.calc_maximum(quantitative_data[k])))"
   ]
  },
  {
   "cell_type": "code",
   "execution_count": 11,
   "metadata": {},
   "outputs": [
    {
     "name": "stdout",
     "output_type": "stream",
     "text": [
      "('AAT_ECOLI', 1, 0.002976190476190476)\n",
      "('cp', 143, 0.4255952380952381)\n"
     ]
    }
   ],
   "source": [
    "sequenceName = d.data['sequenceName']\n",
    "localization = d.data['localization']\n",
    "\n",
    "print(Calc.calc_mode(sequenceName))\n",
    "print(Calc.calc_mode(localization))"
   ]
  },
  {
   "cell_type": "code",
   "execution_count": null,
   "metadata": {},
   "outputs": [],
   "source": []
  }
 ],
 "metadata": {
  "kernelspec": {
   "display_name": "Python 3",
   "language": "python",
   "name": "python3"
  },
  "language_info": {
   "codemirror_mode": {
    "name": "ipython",
    "version": 3
   },
   "file_extension": ".py",
   "mimetype": "text/x-python",
   "name": "python",
   "nbconvert_exporter": "python",
   "pygments_lexer": "ipython3",
   "version": "3.8.0"
  }
 },
 "nbformat": 4,
 "nbformat_minor": 2
}
