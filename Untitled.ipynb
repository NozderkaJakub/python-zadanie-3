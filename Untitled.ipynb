{
 "cells": [
  {
   "cell_type": "code",
   "execution_count": 11,
   "metadata": {},
   "outputs": [
    {
     "name": "stdout",
     "output_type": "stream",
     "text": [
      "Requirement already satisfied: numpy in d:\\program files (x86)\\python38-32\\lib\\site-packages (1.17.4)\n"
     ]
    }
   ],
   "source": [
    "!py -m pip install numpy"
   ]
  },
  {
   "cell_type": "code",
   "execution_count": 16,
   "metadata": {},
   "outputs": [
    {
     "name": "stdout",
     "output_type": "stream",
     "text": [
      "Collecting pandas\n",
      "  Downloading https://files.pythonhosted.org/packages/78/b9/a304328ea14cd172a5cf681b634b99e24a5b4e24de83204b713b088f02d5/pandas-0.25.3-cp38-cp38-win32.whl (8.1MB)\n",
      "Collecting pytz>=2017.2\n",
      "  Using cached https://files.pythonhosted.org/packages/e7/f9/f0b53f88060247251bf481fa6ea62cd0d25bf1b11a87888e53ce5b7c8ad2/pytz-2019.3-py2.py3-none-any.whl\n",
      "Requirement already satisfied: python-dateutil>=2.6.1 in d:\\program files (x86)\\python38-32\\lib\\site-packages (from pandas) (2.8.1)\n",
      "Requirement already satisfied: numpy>=1.13.3 in d:\\program files (x86)\\python38-32\\lib\\site-packages (from pandas) (1.17.4)\n",
      "Requirement already satisfied: six>=1.5 in c:\\users\\mój komputer\\appdata\\roaming\\python\\python38\\site-packages (from python-dateutil>=2.6.1->pandas) (1.13.0)\n",
      "Installing collected packages: pytz, pandas\n",
      "Successfully installed pandas-0.25.3 pytz-2019.3\n"
     ]
    }
   ],
   "source": [
    "!py -m pip install pandas"
   ]
  },
  {
   "cell_type": "markdown",
   "metadata": {},
   "source": [
    "Średnia arytmetczna"
   ]
  },
  {
   "cell_type": "code",
   "execution_count": 4,
   "metadata": {
    "scrolled": false
   },
   "outputs": [
    {
     "name": "stdout",
     "output_type": "stream",
     "text": [
      "mcg: 0.50006\n",
      "gvh: 0.50000\n",
      "lip: 0.49548\n",
      "chg: 0.50149\n",
      "aac: 0.50003\n",
      "alm1: 0.50018\n",
      "alm2: 0.49973\n"
     ]
    }
   ],
   "source": [
    "import numpy as np\n",
    "from data import Data\n",
    "from calculator import Calculator as Calc\n",
    "\n",
    "d = Data()\n",
    "\n",
    "quantitative_data = d.get_subdata_by_columns(['mcg', 'gvh', 'lip', 'chg', 'aac', 'alm1', 'alm2'])\n",
    "qualitative_data = d.get_subdata_by_columns(['sequenceName', 'localization'])\n",
    "\n",
    "for k in quantitative_data:\n",
    "    print(k+': '+str('{0:.5f}'.format(Calc.calc_arithmetic_mean(quantitative_data[k]))))"
   ]
  },
  {
   "cell_type": "markdown",
   "metadata": {},
   "source": [
    "Odchylenie standardowe"
   ]
  },
  {
   "cell_type": "code",
   "execution_count": 4,
   "metadata": {},
   "outputs": [
    {
     "name": "stdout",
     "output_type": "stream",
     "text": [
      "mcg: 0.19434\n",
      "gvh: 0.14794\n",
      "lip: 0.08836\n",
      "chg: 0.02724\n",
      "aac: 0.12219\n",
      "alm1: 0.21543\n",
      "alm2: 0.20910\n"
     ]
    }
   ],
   "source": [
    "for k in quantitative_data:\n",
    "    print(k+': '+str('{0:.5f}'.format(Calc.calc_standard_deviation(quantitative_data[k]))))"
   ]
  },
  {
   "cell_type": "markdown",
   "metadata": {},
   "source": [
    "Mediana"
   ]
  },
  {
   "cell_type": "code",
   "execution_count": 5,
   "metadata": {},
   "outputs": [
    {
     "name": "stdout",
     "output_type": "stream",
     "text": [
      "mcg: 0.5\n",
      "gvh: 0.47\n",
      "lip: 0.48\n",
      "chg: 0.5\n",
      "aac: 0.495\n",
      "alm1: 0.455\n",
      "alm2: 0.43\n"
     ]
    }
   ],
   "source": [
    "for k in quantitative_data:\n",
    "    print(k+': '+str(Calc.calc_median(quantitative_data[k])))"
   ]
  },
  {
   "cell_type": "markdown",
   "metadata": {},
   "source": [
    "Minimum"
   ]
  },
  {
   "cell_type": "code",
   "execution_count": 6,
   "metadata": {},
   "outputs": [
    {
     "name": "stdout",
     "output_type": "stream",
     "text": [
      "mcg: 0.0\n",
      "gvh: 0.16\n",
      "lip: 0.48\n",
      "chg: 0.5\n",
      "aac: 0.0\n",
      "alm1: 0.03\n",
      "alm2: 0.0\n"
     ]
    }
   ],
   "source": [
    "for k in quantitative_data:\n",
    "    print(k+': '+str(Calc.calc_minimum(quantitative_data[k])))"
   ]
  },
  {
   "cell_type": "markdown",
   "metadata": {},
   "source": [
    "Maksimum"
   ]
  },
  {
   "cell_type": "code",
   "execution_count": 7,
   "metadata": {
    "scrolled": true
   },
   "outputs": [
    {
     "name": "stdout",
     "output_type": "stream",
     "text": [
      "mcg: 0.89\n",
      "gvh: 1.0\n",
      "lip: 1.0\n",
      "chg: 1.0\n",
      "aac: 0.88\n",
      "alm1: 1.0\n",
      "alm2: 0.99\n"
     ]
    }
   ],
   "source": [
    "for k in quantitative_data:\n",
    "    print(k+': '+str(Calc.calc_maximum(quantitative_data[k])))"
   ]
  },
  {
   "cell_type": "markdown",
   "metadata": {},
   "source": [
    "Dominanta"
   ]
  },
  {
   "cell_type": "code",
   "execution_count": 8,
   "metadata": {},
   "outputs": [
    {
     "name": "stdout",
     "output_type": "stream",
     "text": [
      "('AAT_ECOLI', 1, 0.002976190476190476)\n",
      "('cp', 143, 0.4255952380952381)\n"
     ]
    }
   ],
   "source": [
    "sequenceName = d.data['sequenceName']\n",
    "localization = d.data['localization']\n",
    "\n",
    "print(Calc.calc_mode(sequenceName))\n",
    "print(Calc.calc_mode(localization))"
   ]
  },
  {
   "cell_type": "markdown",
   "metadata": {},
   "source": [
    "Macierz korelacji"
   ]
  },
  {
   "cell_type": "code",
   "execution_count": 5,
   "metadata": {},
   "outputs": [
    {
     "name": "stdout",
     "output_type": "stream",
     "text": [
      "           mcg       gvh       lip       chg       aac      alm1      alm2\n",
      "mcg   1.000000  0.454805  0.146841  0.070266  0.220699  0.396979  0.167086\n",
      "gvh   0.454805  1.000000  0.043804  0.018466  0.069824  0.173492 -0.120199\n",
      "lip   0.146841  0.043804  1.000000  0.311951  0.070190  0.095788 -0.057570\n",
      "chg   0.070266  0.018466  0.311951  1.000000 -0.044726 -0.007654 -0.052188\n",
      "aac   0.220699  0.069824  0.070190 -0.044726  1.000000  0.279482  0.252675\n",
      "alm1  0.396979  0.173492  0.095788 -0.007654  0.279482  1.000000  0.809324\n",
      "alm2  0.167086 -0.120199 -0.057570 -0.052188  0.252675  0.809324  1.000000\n"
     ]
    }
   ],
   "source": [
    "print(Calc.calc_correlation_matrix(quantitative_data, dataframe=True))"
   ]
  },
  {
   "cell_type": "markdown",
   "metadata": {},
   "source": [
    "Najbardziej skorelowanymi ze sobą cechami ilościowymi są mcg i gvh, ponieważ wartość współczynnika korelacji wynosząca 0.454805 jest najwyższa ze wszystkich."
   ]
  },
  {
   "cell_type": "code",
   "execution_count": 2,
   "metadata": {},
   "outputs": [],
   "source": [
    "from analyzer import Analize"
   ]
  },
  {
   "cell_type": "code",
   "execution_count": 8,
   "metadata": {},
   "outputs": [
    {
     "data": {
      "image/png": "[encoded data removed]",
      "text/plain": [
       "<Figure size 432x288 with 1 Axes>"
      ]
     },
     "metadata": {
      "needs_background": "light"
     },
     "output_type": "display_data"
    }
   ],
   "source": [
    "Analize.histogram(d.get_subdata_by_columns(['mcg', 'gvh']))"
   ]
  },
  {
   "cell_type": "code",
   "execution_count": null,
   "metadata": {},
   "outputs": [],
   "source": []
  }
 ],
 "metadata": {
  "kernelspec": {
   "display_name": "Python 3",
   "language": "python",
   "name": "python3"
  },
  "language_info": {
   "codemirror_mode": {
    "name": "ipython",
    "version": 3
   },
   "file_extension": ".py",
   "mimetype": "text/x-python",
   "name": "python",
   "nbconvert_exporter": "python",
   "pygments_lexer": "ipython3",
   "version": "3.8.0"
  }
 },
 "nbformat": 4,
 "nbformat_minor": 2
}
